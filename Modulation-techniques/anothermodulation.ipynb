{
 "cells": [
  {
   "cell_type": "code",
   "execution_count": 3,
   "id": "dd100a66",
   "metadata": {},
   "outputs": [],
   "source": [
    "import numpy as np"
   ]
  },
  {
   "cell_type": "code",
   "execution_count": 5,
   "id": "52ac54be",
   "metadata": {},
   "outputs": [],
   "source": [
    " t = np.linspace(0, 0.01, int(0.01 * 10000))"
   ]
  },
  {
   "cell_type": "code",
   "execution_count": 6,
   "id": "7dd781a1",
   "metadata": {},
   "outputs": [],
   "source": [
    "s = np.sqrt(2 * 0.001 / 0.01) * np.cos(2 * np.pi * 100 * t)"
   ]
  },
  {
   "cell_type": "code",
   "execution_count": null,
   "id": "cf45508e",
   "metadata": {},
   "outputs": [],
   "source": [
    "len(s)"
   ]
  },
  {
   "cell_type": "code",
   "execution_count": 23,
   "id": "95291861",
   "metadata": {
    "scrolled": false
   },
   "outputs": [
    {
     "data": {
      "text/plain": [
       "array([12.,  8.])"
      ]
     },
     "execution_count": 23,
     "metadata": {},
     "output_type": "execute_result"
    }
   ],
   "source": [
    "a=np.linspace(4, 2, 2)\n",
    "b=np.linspace(3,4,2)\n",
    "c=(a*b)\n",
    "c"
   ]
  },
  {
   "cell_type": "code",
   "execution_count": 31,
   "id": "1f470add",
   "metadata": {},
   "outputs": [
    {
     "data": {
      "text/plain": [
       "array([1, 0, 1, 1, 1, 1, 0, 1, 1, 1, 1, 0, 0, 0, 1, 1, 1, 1, 1, 0, 1, 0,\n",
       "       0, 0, 0, 0, 1, 0, 1, 1, 0, 1, 1, 0, 0, 1, 0, 0, 1, 1, 1, 0, 0, 0,\n",
       "       0, 0, 1, 1, 0, 1, 0, 0, 1, 1, 0, 1, 0, 0, 1, 0, 1, 0, 1, 0, 1, 0,\n",
       "       0, 1, 1, 0, 0, 0, 0, 1, 0, 1, 1, 0, 1, 1, 1, 1, 0, 0, 1, 1, 1, 1,\n",
       "       0, 0, 1, 1, 1, 1, 0, 1, 1, 0, 1, 1, 0, 0, 0, 1, 1, 1, 0, 0, 1, 0,\n",
       "       1, 1, 1, 0, 1, 0, 1, 0, 0, 0, 1, 0, 1, 1, 0, 0, 1, 0, 0, 1, 1, 1,\n",
       "       1, 1, 1, 0, 1, 1, 0, 1, 0, 0, 1, 1, 1, 0, 1, 0, 0, 0, 0, 0, 0, 1,\n",
       "       0, 1, 1, 1, 1, 0, 0, 1, 1, 1, 1, 1, 1, 1, 1, 0, 0, 1, 0, 0, 0, 1,\n",
       "       0, 0, 1, 0, 0, 0, 1, 1, 1, 0, 0, 1, 1, 0, 1, 0, 0, 1, 1, 0, 0, 0,\n",
       "       0, 0, 0, 1, 1, 1, 1, 0, 1, 1, 0, 0, 1, 1, 0, 0, 1, 1, 1, 1, 1, 1,\n",
       "       1, 0, 1, 0, 1, 0, 1, 1, 0, 0, 1, 0, 0, 1, 1, 1, 0, 0, 0, 0, 0, 1,\n",
       "       0, 1, 1, 1, 0, 1, 0, 1, 0, 0, 0, 0, 1, 1, 0, 0, 0, 0, 0, 0, 1, 0,\n",
       "       0, 0, 0, 1, 1, 1, 1, 0, 1, 1, 0, 1, 0, 0, 0, 0, 0, 1, 0, 1, 0, 0,\n",
       "       1, 0, 1, 0, 0, 0, 1, 1, 0, 0, 1, 0, 0, 1, 0, 0, 1, 1, 1, 0, 1, 0,\n",
       "       1, 0, 0, 1, 0, 1, 1, 1, 0, 0, 0, 1, 0, 0, 0, 0, 1, 0, 0, 1, 1, 0,\n",
       "       0, 1, 0, 1, 1, 1, 1, 0, 0, 0, 0, 0, 1, 1, 0, 1, 1, 0, 0, 0, 1, 1,\n",
       "       0, 1, 1, 1, 0, 1, 1, 0, 1, 0, 1, 0, 0, 0, 1, 1, 0, 1, 1, 0, 0, 0,\n",
       "       1, 0, 0, 0, 1, 1, 1, 0, 1, 0, 0, 1, 1, 0, 0, 1, 0, 1, 1, 0, 0, 1,\n",
       "       0, 1, 1, 0, 0, 0, 0, 1, 0, 0, 1, 1, 1, 1, 0, 0, 1, 1, 1, 1, 1, 0,\n",
       "       0, 1, 1, 1, 0, 1, 1, 0, 1, 1, 1, 1, 0, 1, 1, 1, 1, 0, 1, 0, 0, 1,\n",
       "       0, 1, 1, 0, 0, 0, 1, 1, 1, 0, 1, 1, 1, 1, 0, 1, 1, 0, 1, 0, 0, 1,\n",
       "       0, 1, 0, 0, 0, 0, 1, 0, 1, 1, 1, 0, 0, 1, 1, 1, 0, 1, 0, 1, 1, 1,\n",
       "       0, 0, 1, 0, 0, 0, 0, 0, 1, 1, 0, 1, 0, 1, 1, 0, 1, 1, 0, 1, 0, 1,\n",
       "       1, 0, 0, 0, 1, 0, 1, 1, 1, 1, 1, 0, 1, 0, 0, 0, 0, 0, 1, 1, 0, 1,\n",
       "       1, 1, 1, 1, 0, 1, 0, 1, 0, 0, 0, 0, 1, 0, 0, 1, 0, 1, 0, 1, 0, 0,\n",
       "       0, 1, 0, 1, 1, 1, 1, 0, 1, 1, 1, 1, 1, 0, 1, 1, 1, 0, 1, 0, 0, 1,\n",
       "       1, 0, 0, 0, 0, 1, 0, 1, 1, 0, 1, 0, 1, 0, 0, 1, 0, 0, 0, 0, 0, 1,\n",
       "       0, 0, 0, 0, 1, 0, 0, 1, 0, 1, 0, 0, 0, 0, 1, 0, 0, 0, 0, 0, 1, 1,\n",
       "       1, 1, 1, 0, 0, 1, 1, 1, 1, 1, 1, 1, 1, 0, 0, 1, 1, 0, 0, 0, 0, 1,\n",
       "       1, 0, 0, 0, 1, 1, 1, 0, 0, 0, 1, 0, 0, 0, 1, 1, 0, 1, 1, 1, 1, 1,\n",
       "       0, 0, 1, 0, 0, 1, 1, 1, 0, 1, 1, 1, 1, 1, 1, 0, 1, 1, 1, 0, 1, 1,\n",
       "       0, 1, 1, 0, 1, 0, 1, 1, 0, 1, 1, 1, 0, 1, 0, 0, 1, 1, 0, 0, 1, 1,\n",
       "       0, 1, 1, 0, 1, 0, 0, 1, 0, 1, 1, 1, 0, 1, 1, 0, 1, 0, 1, 0, 1, 0,\n",
       "       0, 0, 1, 1, 1, 1, 1, 0, 1, 1, 1, 1, 0, 0, 0, 0, 0, 0, 1, 1, 0, 1,\n",
       "       1, 0, 0, 0, 1, 0, 0, 0, 0, 0, 1, 1, 0, 1, 1, 1, 1, 1, 0, 0, 0, 1,\n",
       "       0, 0, 0, 0, 1, 1, 1, 0, 0, 1, 1, 0, 0, 0, 1, 0, 0, 0, 1, 1, 1, 1,\n",
       "       1, 1, 1, 1, 1, 1, 0, 1, 1, 1, 0, 1, 1, 0, 0, 1, 1, 0, 1, 0, 1, 0,\n",
       "       1, 0, 1, 1, 0, 0, 0, 1, 1, 1, 1, 0, 1, 0, 1, 1, 1, 0, 1, 0, 1, 0,\n",
       "       0, 0, 0, 1, 0, 0, 1, 1, 1, 1, 0, 1, 0, 0, 0, 1, 0, 1, 1, 0, 0, 0,\n",
       "       1, 1, 0, 0, 1, 1, 1, 0, 1, 1, 0, 1, 0, 1, 1, 0, 0, 1, 0, 0, 0, 1,\n",
       "       1, 0, 0, 0, 0, 1, 0, 1, 1, 0, 0, 0, 1, 0, 0, 0, 0, 0, 0, 1, 0, 1,\n",
       "       0, 0, 1, 0, 1, 1, 1, 0, 1, 1, 1, 1, 0, 1, 0, 1, 1, 0, 1, 1, 0, 0,\n",
       "       0, 0, 1, 1, 1, 1, 0, 0, 0, 1, 0, 0, 0, 0, 1, 1, 0, 1, 0, 1, 0, 0,\n",
       "       1, 0, 0, 0, 1, 0, 0, 0, 0, 1, 0, 0, 0, 1, 1, 1, 1, 0, 1, 1, 1, 0,\n",
       "       0, 0, 1, 0, 1, 1, 0, 0, 1, 1, 1, 1, 1, 0, 1, 0, 0, 0, 0, 0, 0, 0,\n",
       "       0, 1, 0, 1, 1, 1, 0, 0, 1, 1])"
      ]
     },
     "execution_count": 31,
     "metadata": {},
     "output_type": "execute_result"
    }
   ],
   "source": [
    "msg = np.random.randint(low=0, high=2, size=int(1e3))\n",
    "msg"
   ]
  },
  {
   "cell_type": "code",
   "execution_count": 29,
   "id": "fba003a0",
   "metadata": {},
   "outputs": [
    {
     "data": {
      "text/plain": [
       "1000"
      ]
     },
     "execution_count": 29,
     "metadata": {},
     "output_type": "execute_result"
    }
   ],
   "source": [
    "len(msg)   #doubt log: what is Eb, what is f_s , how to generate scipi.periodigram??"
   ]
  },
  {
   "cell_type": "code",
   "execution_count": 32,
   "id": "ead52fcc",
   "metadata": {},
   "outputs": [
    {
     "data": {
      "text/plain": [
       "array([ 1.12434179, -0.08861555, -2.34354728,  0.94593012,  1.23147326,\n",
       "       -0.22398906,  0.38271389,  1.88433638,  0.26317682,  0.08540899,\n",
       "       -0.80263195,  0.70260228,  1.21820369,  0.45616921,  1.43627754,\n",
       "        0.29369725, -0.50059895, -1.09242812, -0.7701289 ,  0.03723733,\n",
       "       -0.20277575,  0.16138748,  0.90639769,  2.94245204, -0.80905506,\n",
       "        1.4778651 ,  1.22946049, -0.27744218,  0.11187635,  0.28437079,\n",
       "        0.91187018,  1.32180748, -0.15140926,  0.03582612,  0.36394364,\n",
       "        0.46987346,  1.69516021,  0.10769715, -0.17087573,  1.24635207,\n",
       "       -1.15047653, -1.48240376,  0.35875498,  0.22713619,  0.20742108,\n",
       "        0.7018234 ,  0.65069952,  2.12670606, -0.24976948,  0.15156113,\n",
       "       -0.13355134,  0.09577938,  0.54143245, -1.66760839,  0.77991876,\n",
       "        2.33294747, -0.04844392, -0.54529001, -0.67434815,  0.29954106,\n",
       "       -0.23870531, -0.64534818,  1.61256452,  0.37155586,  1.57443219,\n",
       "        1.41624006,  0.65774572, -1.45136277, -0.69348645, -0.08536275,\n",
       "       -2.27403643,  0.06203147, -0.0176244 ,  0.72158012,  0.15041476,\n",
       "        1.10615916,  0.39247725,  0.68851335, -1.38320443, -0.48070299,\n",
       "        0.79299545,  0.47741385, -0.83025405, -0.74206623, -1.59409044,\n",
       "        0.30634208,  0.18964894, -0.93510479, -1.22931111,  1.76563643,\n",
       "        0.51133178, -1.61841989,  0.7164262 ,  0.19784509, -0.30536688,\n",
       "       -0.62283919,  0.19925838, -0.04386222, -0.14496357, -0.52155219])"
      ]
     },
     "execution_count": 32,
     "metadata": {},
     "output_type": "execute_result"
    }
   ],
   "source": [
    "noise = np.random.normal(size=100)\n",
    "noise"
   ]
  },
  {
   "cell_type": "code",
   "execution_count": 9,
   "id": "f543dca2",
   "metadata": {},
   "outputs": [
    {
     "name": "stdout",
     "output_type": "stream",
     "text": [
      "The original string is : A.Chockalingam\n",
      "The string after binary conversion : 0100000100101110010000110110100001101111011000110110101101100001011011000110100101101110011001110110000101101101\n"
     ]
    }
   ],
   "source": [
    "test_str = \"A.Chockalingam\"\n",
    "  \n",
    "# printing original string \n",
    "print(\"The original string is : \" + str(test_str))\n",
    "  \n",
    "# using join() + ord() + format()\n",
    "# Converting String to binary\n",
    "res = ''.join(format(ord(i), '08b') for i in test_str)\n",
    "  \n",
    "# printing result \n",
    "print(\"The string after binary conversion : \" + str(res))"
   ]
  },
  {
   "cell_type": "code",
   "execution_count": 17,
   "id": "e644b58a",
   "metadata": {},
   "outputs": [
    {
     "name": "stdout",
     "output_type": "stream",
     "text": [
      "The binary value is: 1101000110010111011001101100110111110000011101111101111111001011011001100100\n",
      "The Binary value after string conversion is:  helloAo_eY$\n"
     ]
    }
   ],
   "source": [
    "# Defining BinarytoDecimal() function\n",
    "# Python3 code to demonstrate working of\n",
    "# Converting binary to string\n",
    "# Using BinarytoDecimal(binary)+chr()\n",
    "\n",
    "\n",
    "# Defining BinarytoDecimal() function\n",
    "def BinaryToDecimal(binary):\n",
    "\t\t\n",
    "\tbinary1 = binary\n",
    "\tdecimal, i, n = 0, 0, 0\n",
    "\twhile(binary != 0):\n",
    "\t\tdec = binary % 10\n",
    "\t\tdecimal = decimal + dec * pow(2, i)\n",
    "\t\tbinary = binary//10\n",
    "\t\ti += 1\n",
    "\treturn (decimal)\n",
    "\n",
    "# Driver's code\n",
    "# initializing binary data\n",
    "bin_data ='1101000110010111011001101100110111110000011101111101111111001011011001100100'\n",
    "\n",
    "# print binary data\n",
    "print(\"The binary value is:\", bin_data)\n",
    "\n",
    "# initializing a empty string for\n",
    "# storing the string data\n",
    "str_data =' '\n",
    "\n",
    "# slicing the input and converting it\n",
    "# in decimal and then converting it in string\n",
    "for i in range(0, len(bin_data), 7):\n",
    "\t\n",
    "\t# slicing the bin_data from index range [0, 6]\n",
    "\t# and storing it as integer in temp_data\n",
    "\ttemp_data = int(bin_data[i:i + 7])\n",
    "\t\n",
    "\t# passing temp_data in BinarytoDecimal() function\n",
    "\t# to get decimal value of corresponding temp_data\n",
    "\tdecimal_data = BinaryToDecimal(temp_data)\n",
    "\t\n",
    "\t# Decoding the decimal value returned by\n",
    "\t# BinarytoDecimal() function, using chr()\n",
    "\t# function which return the string corresponding\n",
    "\t# character for given ASCII value, and store it\n",
    "\t# in str_data\n",
    "\tstr_data = str_data + chr(decimal_data)\n",
    "\n",
    "# printing the result\n",
    "print(\"The Binary value after string conversion is:\",\n",
    "\tstr_data)\n",
    "\n"
   ]
  },
  {
   "cell_type": "code",
   "execution_count": 7,
   "id": "049bdd27",
   "metadata": {
    "scrolled": true
   },
   "outputs": [
    {
     "name": "stdout",
     "output_type": "stream",
     "text": [
      "115\n",
      "116\n",
      "114\n",
      "105\n",
      "110\n",
      "103\n"
     ]
    }
   ],
   "source": []
  },
  {
   "cell_type": "code",
   "execution_count": null,
   "id": "1cdd42db",
   "metadata": {},
   "outputs": [],
   "source": [
    "#task log: understand bin conversion,understand f_s, test the program for your data"
   ]
  }
 ],
 "metadata": {
  "kernelspec": {
   "display_name": "Python 3 (ipykernel)",
   "language": "python",
   "name": "python3"
  },
  "language_info": {
   "codemirror_mode": {
    "name": "ipython",
    "version": 3
   },
   "file_extension": ".py",
   "mimetype": "text/x-python",
   "name": "python",
   "nbconvert_exporter": "python",
   "pygments_lexer": "ipython3",
   "version": "3.9.7"
  }
 },
 "nbformat": 4,
 "nbformat_minor": 5
}
