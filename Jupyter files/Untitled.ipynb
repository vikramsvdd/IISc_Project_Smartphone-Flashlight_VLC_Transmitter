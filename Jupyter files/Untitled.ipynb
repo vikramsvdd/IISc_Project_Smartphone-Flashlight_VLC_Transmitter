{
 "cells": [
  {
   "cell_type": "code",
   "execution_count": 10,
   "id": "2ca72a71",
   "metadata": {},
   "outputs": [],
   "source": [
    "import numpy as np\n",
    "import math\n",
    "\n"
   ]
  },
  {
   "cell_type": "code",
   "execution_count": 2,
   "id": "2d8911d6",
   "metadata": {},
   "outputs": [
    {
     "data": {
      "text/plain": [
       "array([2.  , 2.25, 2.5 , 2.75, 3.  ])"
      ]
     },
     "execution_count": 2,
     "metadata": {},
     "output_type": "execute_result"
    }
   ],
   "source": [
    "np.linspace(2.0, 3.0, num=5)"
   ]
  },
  {
   "cell_type": "code",
   "execution_count": 3,
   "id": "69f0a9f8",
   "metadata": {},
   "outputs": [],
   "source": [
    "k=np.linspace(2.0, 3.0, num=5)"
   ]
  },
  {
   "cell_type": "code",
   "execution_count": 4,
   "id": "23917cd2",
   "metadata": {},
   "outputs": [
    {
     "data": {
      "text/plain": [
       "array([2.  , 2.25, 2.5 , 2.75, 3.  ])"
      ]
     },
     "execution_count": 4,
     "metadata": {},
     "output_type": "execute_result"
    }
   ],
   "source": [
    "k"
   ]
  },
  {
   "cell_type": "code",
   "execution_count": 5,
   "id": "487d4348",
   "metadata": {},
   "outputs": [
    {
     "name": "stdout",
     "output_type": "stream",
     "text": [
      "[2.   2.25 2.5  2.75 3.  ]\n"
     ]
    }
   ],
   "source": [
    "print(k)"
   ]
  },
  {
   "cell_type": "code",
   "execution_count": 6,
   "id": "66ee58ce",
   "metadata": {},
   "outputs": [
    {
     "data": {
      "text/plain": [
       "array([2.        , 2.02040816, 2.04081633, 2.06122449, 2.08163265,\n",
       "       2.10204082, 2.12244898, 2.14285714, 2.16326531, 2.18367347,\n",
       "       2.20408163, 2.2244898 , 2.24489796, 2.26530612, 2.28571429,\n",
       "       2.30612245, 2.32653061, 2.34693878, 2.36734694, 2.3877551 ,\n",
       "       2.40816327, 2.42857143, 2.44897959, 2.46938776, 2.48979592,\n",
       "       2.51020408, 2.53061224, 2.55102041, 2.57142857, 2.59183673,\n",
       "       2.6122449 , 2.63265306, 2.65306122, 2.67346939, 2.69387755,\n",
       "       2.71428571, 2.73469388, 2.75510204, 2.7755102 , 2.79591837,\n",
       "       2.81632653, 2.83673469, 2.85714286, 2.87755102, 2.89795918,\n",
       "       2.91836735, 2.93877551, 2.95918367, 2.97959184, 3.        ])"
      ]
     },
     "execution_count": 6,
     "metadata": {},
     "output_type": "execute_result"
    }
   ],
   "source": [
    "np.linspace(2.0, 3.0)"
   ]
  },
  {
   "cell_type": "code",
   "execution_count": 10,
   "id": "883dafdd",
   "metadata": {},
   "outputs": [
    {
     "data": {
      "text/plain": [
       "array([0.        , 0.00010101, 0.00020202, 0.00030303, 0.00040404,\n",
       "       0.00050505, 0.00060606, 0.00070707, 0.00080808, 0.00090909,\n",
       "       0.0010101 , 0.00111111, 0.00121212, 0.00131313, 0.00141414,\n",
       "       0.00151515, 0.00161616, 0.00171717, 0.00181818, 0.00191919,\n",
       "       0.0020202 , 0.00212121, 0.00222222, 0.00232323, 0.00242424,\n",
       "       0.00252525, 0.00262626, 0.00272727, 0.00282828, 0.00292929,\n",
       "       0.0030303 , 0.00313131, 0.00323232, 0.00333333, 0.00343434,\n",
       "       0.00353535, 0.00363636, 0.00373737, 0.00383838, 0.00393939,\n",
       "       0.0040404 , 0.00414141, 0.00424242, 0.00434343, 0.00444444,\n",
       "       0.00454545, 0.00464646, 0.00474747, 0.00484848, 0.00494949,\n",
       "       0.00505051, 0.00515152, 0.00525253, 0.00535354, 0.00545455,\n",
       "       0.00555556, 0.00565657, 0.00575758, 0.00585859, 0.0059596 ,\n",
       "       0.00606061, 0.00616162, 0.00626263, 0.00636364, 0.00646465,\n",
       "       0.00656566, 0.00666667, 0.00676768, 0.00686869, 0.0069697 ,\n",
       "       0.00707071, 0.00717172, 0.00727273, 0.00737374, 0.00747475,\n",
       "       0.00757576, 0.00767677, 0.00777778, 0.00787879, 0.0079798 ,\n",
       "       0.00808081, 0.00818182, 0.00828283, 0.00838384, 0.00848485,\n",
       "       0.00858586, 0.00868687, 0.00878788, 0.00888889, 0.0089899 ,\n",
       "       0.00909091, 0.00919192, 0.00929293, 0.00939394, 0.00949495,\n",
       "       0.00959596, 0.00969697, 0.00979798, 0.00989899, 0.01      ])"
      ]
     },
     "execution_count": 10,
     "metadata": {},
     "output_type": "execute_result"
    }
   ],
   "source": [
    "np.linspace(0, 0.01, int(0.01 * 10000),axis=0)\n",
    "\n"
   ]
  },
  {
   "cell_type": "code",
   "execution_count": 11,
   "id": "07e388e6",
   "metadata": {},
   "outputs": [],
   "source": [
    "k=[1,2]"
   ]
  },
  {
   "cell_type": "code",
   "execution_count": 12,
   "id": "fc742642",
   "metadata": {},
   "outputs": [
    {
     "ename": "TypeError",
     "evalue": "list.extend() takes exactly one argument (2 given)",
     "output_type": "error",
     "traceback": [
      "\u001b[1;31m---------------------------------------------------------------------------\u001b[0m",
      "\u001b[1;31mTypeError\u001b[0m                                 Traceback (most recent call last)",
      "\u001b[1;32m~\\AppData\\Local\\Temp/ipykernel_11984/2286986666.py\u001b[0m in \u001b[0;36m<module>\u001b[1;34m\u001b[0m\n\u001b[1;32m----> 1\u001b[1;33m \u001b[0mk\u001b[0m\u001b[1;33m.\u001b[0m\u001b[0mextend\u001b[0m\u001b[1;33m(\u001b[0m\u001b[1;36m3\u001b[0m\u001b[1;33m,\u001b[0m\u001b[1;36m4\u001b[0m\u001b[1;33m)\u001b[0m\u001b[1;33m\u001b[0m\u001b[1;33m\u001b[0m\u001b[0m\n\u001b[0m\u001b[0;32m      2\u001b[0m \u001b[1;33m\u001b[0m\u001b[0m\n",
      "\u001b[1;31mTypeError\u001b[0m: list.extend() takes exactly one argument (2 given)"
     ]
    }
   ],
   "source": [
    "k.extend(3,4)\n",
    "\n"
   ]
  },
  {
   "cell_type": "code",
   "execution_count": 13,
   "id": "db252bef",
   "metadata": {},
   "outputs": [
    {
     "ename": "TypeError",
     "evalue": "'int' object is not iterable",
     "output_type": "error",
     "traceback": [
      "\u001b[1;31m---------------------------------------------------------------------------\u001b[0m",
      "\u001b[1;31mTypeError\u001b[0m                                 Traceback (most recent call last)",
      "\u001b[1;32m~\\AppData\\Local\\Temp/ipykernel_11984/3817761429.py\u001b[0m in \u001b[0;36m<module>\u001b[1;34m\u001b[0m\n\u001b[1;32m----> 1\u001b[1;33m \u001b[0mk\u001b[0m\u001b[1;33m.\u001b[0m\u001b[0mextend\u001b[0m\u001b[1;33m(\u001b[0m\u001b[1;36m3\u001b[0m\u001b[1;33m)\u001b[0m\u001b[1;33m\u001b[0m\u001b[1;33m\u001b[0m\u001b[0m\n\u001b[0m",
      "\u001b[1;31mTypeError\u001b[0m: 'int' object is not iterable"
     ]
    }
   ],
   "source": [
    "k.extend(3)"
   ]
  },
  {
   "cell_type": "code",
   "execution_count": 14,
   "id": "e6d4dd07",
   "metadata": {},
   "outputs": [],
   "source": [
    "k.extend([3,4])"
   ]
  },
  {
   "cell_type": "code",
   "execution_count": 16,
   "id": "69a27776",
   "metadata": {},
   "outputs": [],
   "source": [
    "t=np.linspace(0, 0.01, int(0.01 * 10000),axis=0)\n"
   ]
  },
  {
   "cell_type": "code",
   "execution_count": 17,
   "id": "c50b9e2b",
   "metadata": {},
   "outputs": [],
   "source": [
    "s = np.sqrt(2 * 0.001 / 0.01) * np.cos(2 * np.pi * 100 * t)"
   ]
  },
  {
   "cell_type": "code",
   "execution_count": 18,
   "id": "11ddbf29",
   "metadata": {},
   "outputs": [
    {
     "data": {
      "text/plain": [
       "array([ 0.4472136 ,  0.44631321,  0.44361568,  0.43913186,  0.43287982,\n",
       "        0.42488472,  0.41517876,  0.40380102,  0.39079732,  0.37622002,\n",
       "        0.36012781,  0.34258549,  0.3236637 ,  0.30343863,  0.28199173,\n",
       "        0.25940934,  0.2357824 ,  0.21120605,  0.18577924,  0.15960437,\n",
       "        0.13278683,  0.1054346 ,  0.07765783,  0.04956835,  0.02127928,\n",
       "       -0.00709547, -0.03544166, -0.06364513, -0.09159233, -0.11917071,\n",
       "       -0.14626924, -0.17277879, -0.19859263, -0.2236068 , -0.24772058,\n",
       "       -0.27083689, -0.29286262, -0.31370911, -0.33329239, -0.35153363,\n",
       "       -0.36835937, -0.38370185, -0.3974993 , -0.40969616, -0.42024332,\n",
       "       -0.4290983 , -0.43622546, -0.4415961 , -0.44518858, -0.44698844,\n",
       "       -0.44698844, -0.44518858, -0.4415961 , -0.43622546, -0.4290983 ,\n",
       "       -0.42024332, -0.40969616, -0.3974993 , -0.38370185, -0.36835937,\n",
       "       -0.35153363, -0.33329239, -0.31370911, -0.29286262, -0.27083689,\n",
       "       -0.24772058, -0.2236068 , -0.19859263, -0.17277879, -0.14626924,\n",
       "       -0.11917071, -0.09159233, -0.06364513, -0.03544166, -0.00709547,\n",
       "        0.02127928,  0.04956835,  0.07765783,  0.1054346 ,  0.13278683,\n",
       "        0.15960437,  0.18577924,  0.21120605,  0.2357824 ,  0.25940934,\n",
       "        0.28199173,  0.30343863,  0.3236637 ,  0.34258549,  0.36012781,\n",
       "        0.37622002,  0.39079732,  0.40380102,  0.41517876,  0.42488472,\n",
       "        0.43287982,  0.43913186,  0.44361568,  0.44631321,  0.4472136 ])"
      ]
     },
     "execution_count": 18,
     "metadata": {},
     "output_type": "execute_result"
    }
   ],
   "source": [
    "s"
   ]
  },
  {
   "cell_type": "code",
   "execution_count": 23,
   "id": "29c13359",
   "metadata": {},
   "outputs": [
    {
     "name": "stdout",
     "output_type": "stream",
     "text": [
      "[ 1.          0.99798668  0.99195481  0.9819287   0.9679487   0.95007112\n",
      "  0.92836793  0.90292654  0.87384938  0.84125353  0.80527026  0.76604444\n",
      "  0.72373404  0.67850941  0.63055267  0.58005691  0.52722547  0.47227107\n",
      "  0.41541501  0.35688622  0.29692038  0.23575894  0.17364818  0.1108382\n",
      "  0.04758192 -0.01586596 -0.07924996 -0.14231484 -0.20480667 -0.26647381\n",
      " -0.32706796 -0.38634513 -0.44406661 -0.5        -0.55392006 -0.60560969\n",
      " -0.65486073 -0.70147489 -0.74526445 -0.78605309 -0.82367658 -0.85798341\n",
      " -0.88883545 -0.91610846 -0.93969262 -0.95949297 -0.97542979 -0.98743889\n",
      " -0.99547192 -0.99949654 -0.99949654 -0.99547192 -0.98743889 -0.97542979\n",
      " -0.95949297 -0.93969262 -0.91610846 -0.88883545 -0.85798341 -0.82367658\n",
      " -0.78605309 -0.74526445 -0.70147489 -0.65486073 -0.60560969 -0.55392006\n",
      " -0.5        -0.44406661 -0.38634513 -0.32706796 -0.26647381 -0.20480667\n",
      " -0.14231484 -0.07924996 -0.01586596  0.04758192  0.1108382   0.17364818\n",
      "  0.23575894  0.29692038  0.35688622  0.41541501  0.47227107  0.52722547\n",
      "  0.58005691  0.63055267  0.67850941  0.72373404  0.76604444  0.80527026\n",
      "  0.84125353  0.87384938  0.90292654  0.92836793  0.95007112  0.9679487\n",
      "  0.9819287   0.99195481  0.99798668  1.        ]\n"
     ]
    }
   ],
   "source": [
    "k=np.cos(2 * np.pi * 100 * t)\n",
    "print(k)"
   ]
  },
  {
   "cell_type": "code",
   "execution_count": 59,
   "id": "8e9e1181",
   "metadata": {},
   "outputs": [
    {
     "name": "stdout",
     "output_type": "stream",
     "text": [
      "The binary value is: 100001111010001101111110001111010111100001\n",
      "The Binary value after string conversion is: Chocka\n"
     ]
    }
   ],
   "source": [
    "\n",
    "# Python3 code to demonstrate working of\n",
    "# Converting binary to string\n",
    "# Using BinarytoDecimal(binary)+chr()\n",
    "\n",
    "\n",
    "# Defining BinarytoDecimal() function\n",
    "def BinaryToDecimal(binary):\n",
    "\t\t\n",
    "\tbinary1 = binary\n",
    "\tdecimal, i, n = 0, 0, 0\n",
    "\twhile(binary != 0):\n",
    "\t\tdec = binary % 10\n",
    "\t\tdecimal = decimal + dec * pow(2, i)\n",
    "\t\tbinary = binary//10\n",
    "\t\ti += 1\n",
    "\treturn (decimal)\n",
    "\n",
    "# Driver's code\n",
    "# initializing binary data\n",
    "#bin_data ='100001111010001101111110001111010111100001'\n",
    "bin_data='100001111010001101111110001111010111100001'\n",
    "\n",
    "# print binary data\n",
    "print(\"The binary value is:\", bin_data)\n",
    "\n",
    "# initializing a empty string for\n",
    "# storing the string data\n",
    "str_data =''\n",
    "\n",
    "# slicing the input and converting it\n",
    "# in decimal and then converting it in string\n",
    "for i in range(0, len(bin_data), 7):\n",
    "\t\n",
    "\t# slicing the bin_data from index range [0, 6]\n",
    "\t# and storing it as integer in temp_data\n",
    "\ttemp_data = int(bin_data[i:i + 7])\n",
    "\t\n",
    "\t# passing temp_data in BinarytoDecimal() function\n",
    "\t# to get decimal value of corresponding temp_data\n",
    "\tdecimal_data = BinaryToDecimal(temp_data)\n",
    "\t\n",
    "\t# Decoding the decimal value returned by\n",
    "\t# BinarytoDecimal() function, using chr()\n",
    "\t# function which return the string corresponding\n",
    "\t# character for given ASCII value, and store it\n",
    "\t# in str_data\n",
    "\tstr_data = str_data + chr(decimal_data)\n",
    "\n",
    "# printing the result\n",
    "print(\"The Binary value after string conversion is:\",\n",
    "\tstr_data)\n"
   ]
  },
  {
   "cell_type": "code",
   "execution_count": 51,
   "id": "2812ead1",
   "metadata": {},
   "outputs": [
    {
     "name": "stdout",
     "output_type": "stream",
     "text": [
      "1000011 1101000 1101111 1100011 1101011 1100001\n"
     ]
    }
   ],
   "source": [
    "# Python 3 program to convert\n",
    "# string into binary string\n",
    "\n",
    "# utility function\n",
    "def strToBinary(s):\n",
    "\tbin_conv = []\n",
    "\n",
    "\tfor c in s:\n",
    "\t\t\n",
    "\t\t# convert each char to\n",
    "\t\t# ASCII value\n",
    "\t\tascii_val = ord(c)\n",
    "\t\t\n",
    "\t\t# Convert ASCII value to binary\n",
    "\t\tbinary_val = bin(ascii_val)\n",
    "\t\tbin_conv.append(binary_val[2:])\n",
    "\t\t\n",
    "\treturn (' '.join(bin_conv))\n",
    "\n",
    "# Driver Code\n",
    "if __name__ == '__main__':\n",
    "\ts = 'Chocka'\n",
    "\n",
    "print (strToBinary(s))\n",
    "\n",
    "# This code is contributed\n",
    "# by Vikas Chitturi\n"
   ]
  },
  {
   "cell_type": "code",
   "execution_count": null,
   "id": "ad786577",
   "metadata": {},
   "outputs": [],
   "source": [
    "\n",
    "    "
   ]
  },
  {
   "cell_type": "code",
   "execution_count": null,
   "id": "062b5e7a",
   "metadata": {},
   "outputs": [],
   "source": []
  },
  {
   "cell_type": "code",
   "execution_count": null,
   "id": "5105b1ad",
   "metadata": {},
   "outputs": [],
   "source": []
  },
  {
   "cell_type": "code",
   "execution_count": null,
   "id": "c8c89a49",
   "metadata": {},
   "outputs": [],
   "source": []
  },
  {
   "cell_type": "code",
   "execution_count": null,
   "id": "e82ade13",
   "metadata": {},
   "outputs": [],
   "source": []
  },
  {
   "cell_type": "code",
   "execution_count": null,
   "id": "577eca93",
   "metadata": {},
   "outputs": [],
   "source": []
  }
 ],
 "metadata": {
  "kernelspec": {
   "display_name": "Python 3 (ipykernel)",
   "language": "python",
   "name": "python3"
  },
  "language_info": {
   "codemirror_mode": {
    "name": "ipython",
    "version": 3
   },
   "file_extension": ".py",
   "mimetype": "text/x-python",
   "name": "python",
   "nbconvert_exporter": "python",
   "pygments_lexer": "ipython3",
   "version": "3.9.7"
  }
 },
 "nbformat": 4,
 "nbformat_minor": 5
}
